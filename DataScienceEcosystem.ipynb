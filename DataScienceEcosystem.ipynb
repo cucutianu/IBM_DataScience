{
 "cells": [
  {
   "cell_type": "markdown",
   "id": "e16b2a6e-c7ea-40be-815b-ff262c84881e",
   "metadata": {},
   "source": [
    "<h1>\n",
    "Data Science Tools and Ecosystem\n",
    "</h1>\n"
   ]
  },
  {
   "cell_type": "markdown",
   "id": "f95d7e54-6649-4f5c-be67-539cfa8022d2",
   "metadata": {},
   "source": [
    "In this notebook, Data Science Tools and Ecosystem are summarized."
   ]
  },
  {
   "cell_type": "markdown",
   "id": "8cd9f620-022c-4e5f-9084-8fe4048c6282",
   "metadata": {},
   "source": [
    "Some of the popular languages that Data Scientists use are:\n",
    "<ol>\n",
    "  <li>Python</li>\n",
    "  <li>R</li>\n",
    "  <li>Scala</li>\n",
    "  <li>SQL</li>\n",
    "</ol>"
   ]
  },
  {
   "cell_type": "markdown",
   "id": "6b8a9bb6-5c04-4362-b77e-468228dbb4e8",
   "metadata": {},
   "source": [
    "Some of the commonly used libraries used by Data Scientists include:\n",
    "<ol>\n",
    "  <li>Pandas</li>\n",
    "  <li>Numpy</li>\n",
    "  <li>Mathplotlib</li>\n",
    "  <li>GGPlot</li>\n",
    "  <li>Seaborn</li>\n",
    "</ol>"
   ]
  },
  {
   "cell_type": "markdown",
   "id": "9ca544b5-3e0e-46fc-9a5f-d5f16f21f60b",
   "metadata": {},
   "source": [
    "<table>\n",
    "  <tr>\n",
    "    <th>Data science tools</th>\n",
    "  </tr>\n",
    "  <tr>\n",
    "    <td>Jupyter Lab</td>\n",
    "  </tr>\n",
    "  <tr>\n",
    "    <td>R Studio</td>\n",
    "  </tr>\n",
    "  <tr>\n",
    "    <td>Knime</td>\n",
    "  </tr>\n",
    "  <tr>\n",
    "    <td>Power BI</td>\n",
    "  </tr>\n",
    "</table>"
   ]
  },
  {
   "cell_type": "markdown",
   "id": "294f33c9-91a7-4c2c-8bdf-39ed6b7b9ca1",
   "metadata": {
    "tags": []
   },
   "source": [
    "<h3>Below are a few examples of evaluating arithmetic expressions in Python</h3>"
   ]
  },
  {
   "cell_type": "code",
   "execution_count": 6,
   "id": "63e61a75-d690-48ac-b287-78663b33955c",
   "metadata": {},
   "outputs": [
    {
     "data": {
      "text/plain": [
       "17"
      ]
     },
     "execution_count": 6,
     "metadata": {},
     "output_type": "execute_result"
    }
   ],
   "source": [
    "#This a simple arithmetic expression to mutiply then add integers\n",
    "(3*4)+5"
   ]
  },
  {
   "cell_type": "code",
   "execution_count": 7,
   "id": "40f7a6bf-2448-452f-a3ed-0f12199f0ad0",
   "metadata": {},
   "outputs": [
    {
     "data": {
      "text/plain": [
       "3.3333333333333335"
      ]
     },
     "execution_count": 7,
     "metadata": {},
     "output_type": "execute_result"
    }
   ],
   "source": [
    "#This will convert 200 minutes to hours by diving by 60\n",
    "200/60"
   ]
  },
  {
   "cell_type": "markdown",
   "id": "ea700380-ccca-4ea5-9a4c-7e3087c4d1a5",
   "metadata": {},
   "source": [
    "<b> Objectives:</b>\n",
    "<ul>\n",
    "  <li>List languages used in data science</li>\n",
    "  <li>List programming languages used in data science</li>\n",
    "  <li>List tools used in data science</li>\n",
    "</ul>"
   ]
  },
  {
   "cell_type": "markdown",
   "id": "ebac320b-5c75-4f60-87ec-9a4a8ebc3cd4",
   "metadata": {},
   "source": [
    "<h2>Author</h2>\n",
    "Cucutianu Catalin"
   ]
  }
 ],
 "metadata": {
  "kernelspec": {
   "display_name": "Python 3 (ipykernel)",
   "language": "python",
   "name": "python3"
  },
  "language_info": {
   "codemirror_mode": {
    "name": "ipython",
    "version": 3
   },
   "file_extension": ".py",
   "mimetype": "text/x-python",
   "name": "python",
   "nbconvert_exporter": "python",
   "pygments_lexer": "ipython3",
   "version": "3.9.7"
  }
 },
 "nbformat": 4,
 "nbformat_minor": 5
}
